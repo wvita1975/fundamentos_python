{
 "cells": [
  {
   "cell_type": "markdown",
   "metadata": {},
   "source": [
    "Fundamentos de Python"
   ]
  },
  {
   "cell_type": "code",
   "execution_count": 14,
   "metadata": {},
   "outputs": [
    {
     "name": "stdout",
     "output_type": "stream",
     "text": [
      "Hello World\n"
     ]
    }
   ],
   "source": [
    "print(\"Hello World\")"
   ]
  },
  {
   "cell_type": "code",
   "execution_count": 6,
   "metadata": {},
   "outputs": [],
   "source": [
    "# Variable: A variable is a named location used to store data in the memory.\n",
    "name = \"josefino\"\n",
    "Name = \"josefino\"\n",
    "\n",
    "first_name = \"josefino\"\n",
    "fn = \"josefino\"\n",
    "# first-name = \"josefino\" (Error de convencion)\n",
    "# el nombre de las variables debe ser descriptivo y en minusculas\n",
    "\n",
    "# anomalias y malas practicas\n",
    "FisrtName = \"josefino\"\n",
    "First_Name = \"josefino\"\n",
    "First_name = \"josefino\"\n",
    "# no se puede usar cammel case, snake case, o pascal case\n"
   ]
  },
  {
   "cell_type": "code",
   "execution_count": 19,
   "metadata": {},
   "outputs": [
    {
     "name": "stdout",
     "output_type": "stream",
     "text": [
      "<class 'str'>\n",
      "<class 'int'>\n",
      "<class 'str'>\n"
     ]
    }
   ],
   "source": [
    "# python como clculadora\n",
    "# int : integer (numero entero)\n",
    "# float : float (numero decimal)\n",
    "# str : string (cadena de caracteres)\n",
    "\n",
    "edad = 12\n",
    "peso = 21\n",
    "altura = \"1.78\"\n",
    "\n",
    "print( type( altura ) )\n",
    "print( type( peso ) )\n",
    "print( type( first_name ) )\n"
   ]
  },
  {
   "cell_type": "code",
   "execution_count": 23,
   "metadata": {},
   "outputs": [
    {
     "name": "stdout",
     "output_type": "stream",
     "text": [
      "El tipo de dato de altura es: <class 'str'>\n",
      "El tipo de dato de peso es: <class 'int'>\n",
      "El tipo de dato de first_name es:  <class 'str'>\n"
     ]
    }
   ],
   "source": [
    "# formatos en print\n",
    "\n",
    "edad = 12\n",
    "peso = 21\n",
    "altura = \"1.78\"\n",
    "\n",
    "print( \"El tipo de dato de altura es:\", type( altura ) )\n",
    "print( \"El tipo de dato de peso es:\", type( peso ) )\n",
    "print( \"El tipo de dato de first_name es: \", type( first_name ) )"
   ]
  },
  {
   "cell_type": "code",
   "execution_count": 26,
   "metadata": {},
   "outputs": [
    {
     "name": "stdout",
     "output_type": "stream",
     "text": [
      "altura <class 'float'>\n"
     ]
    }
   ],
   "source": [
    "edad = float(edad)\n",
    "type(edad)\n",
    "\n",
    "altura = float(altura)\n",
    "print( \"altura\", type(altura) )"
   ]
  },
  {
   "cell_type": "markdown",
   "metadata": {},
   "source": [
    "### Ciclos finitos"
   ]
  },
  {
   "cell_type": "code",
   "execution_count": null,
   "metadata": {},
   "outputs": [],
   "source": [
    "# ciclo for en python"
   ]
  }
 ],
 "metadata": {
  "kernelspec": {
   "display_name": "Python 3",
   "language": "python",
   "name": "python3"
  },
  "language_info": {
   "codemirror_mode": {
    "name": "ipython",
    "version": 3
   },
   "file_extension": ".py",
   "mimetype": "text/x-python",
   "name": "python",
   "nbconvert_exporter": "python",
   "pygments_lexer": "ipython3",
   "version": "3.12.1"
  }
 },
 "nbformat": 4,
 "nbformat_minor": 2
}
