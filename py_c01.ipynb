{
 "cells": [
  {
   "cell_type": "markdown",
   "metadata": {},
   "source": [
    "Fundamentos de Python"
   ]
  },
  {
   "cell_type": "code",
   "execution_count": 14,
   "metadata": {},
   "outputs": [
    {
     "name": "stdout",
     "output_type": "stream",
     "text": [
      "Hello World\n"
     ]
    }
   ],
   "source": [
    "print(\"Hello World\")"
   ]
  },
  {
   "cell_type": "code",
   "execution_count": 6,
   "metadata": {},
   "outputs": [],
   "source": [
    "# Variable: A variable is a named location used to store data in the memory.\n",
    "name = \"josefino\"\n",
    "Name = \"josefino\"\n",
    "\n",
    "first_name = \"josefino\"\n",
    "fn = \"josefino\"\n",
    "# first-name = \"josefino\" (Error de convencion)\n",
    "# el nombre de las variables debe ser descriptivo y en minusculas\n",
    "\n",
    "# anomalias y malas practicas\n",
    "FisrtName = \"josefino\"\n",
    "First_Name = \"josefino\"\n",
    "First_name = \"josefino\"\n",
    "# no se puede usar cammel case, snake case, o pascal case\n"
   ]
  },
  {
   "cell_type": "code",
   "execution_count": 19,
   "metadata": {},
   "outputs": [
    {
     "name": "stdout",
     "output_type": "stream",
     "text": [
      "<class 'str'>\n",
      "<class 'int'>\n",
      "<class 'str'>\n"
     ]
    }
   ],
   "source": [
    "# python como clculadora\n",
    "# int : integer (numero entero)\n",
    "# float : float (numero decimal)\n",
    "# str : string (cadena de caracteres)\n",
    "\n",
    "edad = 12\n",
    "peso = 21\n",
    "altura = \"1.78\"\n",
    "\n",
    "print( type( altura ) )\n",
    "print( type( peso ) )\n",
    "print( type( first_name ) )\n"
   ]
  },
  {
   "cell_type": "code",
   "execution_count": 23,
   "metadata": {},
   "outputs": [
    {
     "name": "stdout",
     "output_type": "stream",
     "text": [
      "El tipo de dato de altura es: <class 'str'>\n",
      "El tipo de dato de peso es: <class 'int'>\n",
      "El tipo de dato de first_name es:  <class 'str'>\n"
     ]
    }
   ],
   "source": [
    "# formatos en print\n",
    "\n",
    "edad = 12\n",
    "peso = 21\n",
    "altura = \"1.78\"\n",
    "\n",
    "print( \"El tipo de dato de altura es:\", type( altura ) )\n",
    "print( \"El tipo de dato de peso es:\", type( peso ) )\n",
    "print( \"El tipo de dato de first_name es: \", type( first_name ) )"
   ]
  },
  {
   "cell_type": "code",
   "execution_count": 26,
   "metadata": {},
   "outputs": [
    {
     "name": "stdout",
     "output_type": "stream",
     "text": [
      "altura <class 'float'>\n"
     ]
    }
   ],
   "source": [
    "edad = float(edad)\n",
    "type(edad)\n",
    "\n",
    "altura = float(altura)\n",
    "print( \"altura\", type(altura) )"
   ]
  },
  {
   "cell_type": "markdown",
   "metadata": {},
   "source": [
    "### Ciclos for en python"
   ]
  },
  {
   "cell_type": "code",
   "execution_count": 9,
   "metadata": {},
   "outputs": [
    {
     "name": "stdout",
     "output_type": "stream",
     "text": [
      "1\n"
     ]
    }
   ],
   "source": [
    "for value in range(1,2,5): # Los ciclos permiten \"recorrer\" un conjunto de datos\n",
    "    print(1)"
   ]
  },
  {
   "cell_type": "markdown",
   "metadata": {},
   "source": [
    "### Listas"
   ]
  },
  {
   "cell_type": "code",
   "execution_count": 10,
   "metadata": {},
   "outputs": [],
   "source": [
    "list_1 = [\"monday\", \"thuesday\", 1, 2, 0.8 ]"
   ]
  },
  {
   "cell_type": "code",
   "execution_count": 12,
   "metadata": {},
   "outputs": [
    {
     "data": {
      "text/plain": [
       "'monday'"
      ]
     },
     "execution_count": 12,
     "metadata": {},
     "output_type": "execute_result"
    }
   ],
   "source": [
    "list_1[0] # Acceder a los valores de la lista en donde el \"cero\" es el primer valor"
   ]
  },
  {
   "cell_type": "code",
   "execution_count": 14,
   "metadata": {},
   "outputs": [],
   "source": [
    "list_1 =[-1] # Permiten acceder al último valor de la lista. No se necesita saber cual es el último valor. \n",
    "             # El último valor de la lista siempre será el \"-1\""
   ]
  },
  {
   "cell_type": "markdown",
   "metadata": {},
   "source": [
    "### Métodos de las listas"
   ]
  },
  {
   "cell_type": "code",
   "execution_count": 38,
   "metadata": {},
   "outputs": [],
   "source": [
    "names = [\"josefino\", \"maria\", \"ruperto\"]"
   ]
  },
  {
   "cell_type": "code",
   "execution_count": 32,
   "metadata": {},
   "outputs": [
    {
     "name": "stdout",
     "output_type": "stream",
     "text": [
      "['josefino', 'maria', 'ruperto']\n"
     ]
    }
   ],
   "source": [
    "names.append (\"gillermo\") # append (Adds an element at the end of the list)\n",
    "print(week)"
   ]
  },
  {
   "cell_type": "code",
   "execution_count": 40,
   "metadata": {},
   "outputs": [
    {
     "data": {
      "text/plain": [
       "1"
      ]
     },
     "execution_count": 40,
     "metadata": {},
     "output_type": "execute_result"
    }
   ],
   "source": [
    "names.index ('maria') # index(): Returns the index of the first element with the specified value"
   ]
  },
  {
   "cell_type": "code",
   "execution_count": 41,
   "metadata": {},
   "outputs": [
    {
     "data": {
      "text/plain": [
       "['maria', 'ruperto']"
      ]
     },
     "execution_count": 41,
     "metadata": {},
     "output_type": "execute_result"
    }
   ],
   "source": [
    "names [1:3]"
   ]
  },
  {
   "cell_type": "code",
   "execution_count": 51,
   "metadata": {},
   "outputs": [],
   "source": [
    "pares_list = [] # guardar numeros pares en una lista / Se necesita una lista \n",
    "for number in range(1,11): \n",
    "    if (number %2) != 0:\n",
    "        pares_list.append(number**2)\n",
    "        pares_list"
   ]
  },
  {
   "cell_type": "code",
   "execution_count": 54,
   "metadata": {},
   "outputs": [
    {
     "name": "stdout",
     "output_type": "stream",
     "text": [
      "josefino\n",
      "maria\n",
      "ruperto\n"
     ]
    }
   ],
   "source": [
    "# Leng(): permite conocer la longitud de la lista\n",
    "for value in range(len(names)):\n",
    "    print(names[value])"
   ]
  }
 ],
 "metadata": {
  "kernelspec": {
   "display_name": "Python 3",
   "language": "python",
   "name": "python3"
  },
  "language_info": {
   "codemirror_mode": {
    "name": "ipython",
    "version": 3
   },
   "file_extension": ".py",
   "mimetype": "text/x-python",
   "name": "python",
   "nbconvert_exporter": "python",
   "pygments_lexer": "ipython3",
   "version": "3.12.1"
  }
 },
 "nbformat": 4,
 "nbformat_minor": 2
}
